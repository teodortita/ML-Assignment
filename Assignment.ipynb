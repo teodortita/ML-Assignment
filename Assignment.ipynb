{
  "nbformat": 4,
  "nbformat_minor": 0,
  "metadata": {
    "colab": {
      "provenance": []
    },
    "kernelspec": {
      "name": "python3",
      "display_name": "Python 3"
    },
    "language_info": {
      "name": "python"
    },
    "gpuClass": "standard",
    "accelerator": "GPU"
  },
  "cells": [
    {
      "cell_type": "code",
      "source": [
        "# Install to be able to use BERT\n",
        "\n",
        "!pip install transformers"
      ],
      "metadata": {
        "id": "TmCjdWYoX5t5"
      },
      "execution_count": null,
      "outputs": []
    },
    {
      "cell_type": "code",
      "source": [
        "# Notes for future improvement:\n",
        "# Worth trying more granular segment representation models than IO, such as IOE, IOB, IOBES."
      ],
      "metadata": {
        "id": "M-3wVOuBBB6D"
      },
      "execution_count": null,
      "outputs": []
    },
    {
      "cell_type": "code",
      "source": [
        "# Import dependencies\n",
        "\n",
        "import pandas as pd\n",
        "import pickle\n",
        "from urllib.request import urlopen\n",
        "from bs4 import BeautifulSoup\n",
        "from sklearn.model_selection import train_test_split\n",
        "\n",
        "import torch \n",
        "import numpy as np\n",
        "from transformers import BertTokenizerFast, BertForTokenClassification\n",
        "from torch.utils.data import DataLoader\n",
        "from tqdm import tqdm\n",
        "from torch.optim import SGD"
      ],
      "metadata": {
        "id": "81NQb8boX6mS"
      },
      "execution_count": 2,
      "outputs": []
    },
    {
      "cell_type": "code",
      "source": [
        "# Load variables used during development\n",
        "\n",
        "# with open('X_test.pkl', 'rb') as f:\n",
        "#   X_test = pickle.load(f)"
      ],
      "metadata": {
        "id": "iPbLr070YW9q"
      },
      "execution_count": 19,
      "outputs": []
    },
    {
      "cell_type": "code",
      "source": [
        "# Read data\n",
        "\n",
        "df = pd.read_csv('store_pages.csv')"
      ],
      "metadata": {
        "id": "llPBJNNeCUhM"
      },
      "execution_count": 12,
      "outputs": []
    },
    {
      "cell_type": "code",
      "source": [
        "# Inspect data\n",
        "\n",
        "stores = df['max(page)'].to_list()\n",
        "\n",
        "stores[:5]"
      ],
      "metadata": {
        "colab": {
          "base_uri": "https://localhost:8080/"
        },
        "id": "4tMWhknH_L7-",
        "outputId": "13e44223-75b4-44b4-e29d-f3f52ee0a84c"
      },
      "execution_count": 13,
      "outputs": [
        {
          "output_type": "execute_result",
          "data": {
            "text/plain": [
              "['https://www.factorybuys.com.au/products/euro-top-mattress-king',\n",
              " 'https://dunlin.com.au/products/beadlight-cirrus',\n",
              " 'https://themodern.net.au/products/hamar-plant-stand-ash',\n",
              " 'https://furniturefetish.com.au/products/oslo-office-chair-white',\n",
              " 'https://hemisphereliving.com.au/products/']"
            ]
          },
          "metadata": {},
          "execution_count": 13
        }
      ]
    },
    {
      "cell_type": "code",
      "source": [
        "# Count data\n",
        "\n",
        "len(stores)"
      ],
      "metadata": {
        "colab": {
          "base_uri": "https://localhost:8080/"
        },
        "id": "RXf_YPVT_MiY",
        "outputId": "0f7af288-d8cd-4f38-88e5-2e784b03aa0c"
      },
      "execution_count": 228,
      "outputs": [
        {
          "output_type": "execute_result",
          "data": {
            "text/plain": [
              "704"
            ]
          },
          "metadata": {},
          "execution_count": 228
        }
      ]
    },
    {
      "cell_type": "code",
      "source": [
        "# Split data into training and testing (only 30% for training)\n",
        "\n",
        "X = stores\n",
        "y = [0 for elem in range(len(stores))]\n",
        "\n",
        "X_train, X_test, _, _ = train_test_split(X, y, test_size=0.7, random_state=42)"
      ],
      "metadata": {
        "id": "quPF7LCZAhyA"
      },
      "execution_count": 5,
      "outputs": []
    },
    {
      "cell_type": "code",
      "source": [
        "# Count data\n",
        "\n",
        "len(X_train)"
      ],
      "metadata": {
        "colab": {
          "base_uri": "https://localhost:8080/"
        },
        "id": "D-MhpMrnA1Xr",
        "outputId": "a26a9810-90c4-4111-b422-92e621cd12e5"
      },
      "execution_count": 407,
      "outputs": [
        {
          "output_type": "execute_result",
          "data": {
            "text/plain": [
              "211"
            ]
          },
          "metadata": {},
          "execution_count": 407
        }
      ]
    },
    {
      "cell_type": "code",
      "source": [
        "# Export variables used during development\n",
        "\n",
        "# with open('test_full_extracted.pkl', 'wb') as f:\n",
        "#   pickle.dump(test_full_extracted, f)"
      ],
      "metadata": {
        "id": "a1ZiQ8nFDfie"
      },
      "execution_count": 203,
      "outputs": []
    },
    {
      "cell_type": "code",
      "source": [
        "# Define function to extract text from a given URL\n",
        "\n",
        "def extract_text(url):\n",
        "  output = []\n",
        "  try:\n",
        "    html = urlopen(url).read()\n",
        "    soup = BeautifulSoup(html, features=\"html.parser\")\n",
        "    for script in soup([\"script\", \"style\"]):\n",
        "        script.extract()\n",
        "    text = soup.body.get_text()\n",
        "    # Break into lines and remove leading and trailing space on each\n",
        "    lines = (line.strip() for line in text.splitlines())\n",
        "    # Break multi-headlines into a line each\n",
        "    chunks = (phrase.strip() for line in lines for phrase in line.split(\"  \"))\n",
        "    # Drop blank lines\n",
        "    # output = '\\n'.join(chunk+'.' for chunk in chunks if chunk)\n",
        "    for chunk in chunks:\n",
        "      if chunk:\n",
        "        words = chunk.split()\n",
        "        output.append(words)\n",
        "        output.append('.')\n",
        "  except:\n",
        "    output = None\n",
        "  return output"
      ],
      "metadata": {
        "id": "2Jdv28N-ZoOa"
      },
      "execution_count": 198,
      "outputs": []
    },
    {
      "cell_type": "code",
      "source": [
        "# Make a list with the outputted texts\n",
        "\n",
        "full_extracted = []\n",
        "X_train_new = []\n",
        "\n",
        "for elem in X_train:\n",
        "  extracted = extract_text(elem)\n",
        "  if extracted:\n",
        "    extracted = [item for sublist in extracted for item in sublist]\n",
        "    full_extracted.append(extracted)\n",
        "    X_train_new.append(elem)"
      ],
      "metadata": {
        "id": "jEskjA2cVS7-"
      },
      "execution_count": 425,
      "outputs": []
    },
    {
      "cell_type": "code",
      "source": [
        "# Count data\n",
        "\n",
        "len(full_extracted)"
      ],
      "metadata": {
        "colab": {
          "base_uri": "https://localhost:8080/"
        },
        "id": "_Pegcb5irvhQ",
        "outputId": "4c58ea52-903d-4a29-b58c-47fb221cf8bd"
      },
      "execution_count": 21,
      "outputs": [
        {
          "output_type": "execute_result",
          "data": {
            "text/plain": [
              "79"
            ]
          },
          "metadata": {},
          "execution_count": 21
        }
      ]
    },
    {
      "cell_type": "code",
      "source": [
        "# Define a function to manually tag a word as a \"Product\" if it matches a given string\n",
        "\n",
        "def tag_elem(words, tag):\n",
        "  output = []\n",
        "  for word in words:\n",
        "    new_word = ''.join(filter(str.isalpha, word))\n",
        "    if new_word.lower() in tag.split():\n",
        "      output.append(new_word + ' I-PROD')\n",
        "    else:\n",
        "      output.append(word + ' O')\n",
        "  return output"
      ],
      "metadata": {
        "id": "LW3wM883D5mx"
      },
      "execution_count": 20,
      "outputs": []
    },
    {
      "cell_type": "code",
      "source": [
        "# Inspect data\n",
        "\n",
        "X_train_new[70]"
      ],
      "metadata": {
        "colab": {
          "base_uri": "https://localhost:8080/",
          "height": 35
        },
        "id": "-u0ABrZgC3Hv",
        "outputId": "6dcea850-97e5-4766-812c-71fe806e1e68"
      },
      "execution_count": 108,
      "outputs": [
        {
          "output_type": "execute_result",
          "data": {
            "text/plain": [
              "'https://shackletonsretail.co.uk/products/'"
            ],
            "application/vnd.google.colaboratory.intrinsic+json": {
              "type": "string"
            }
          },
          "metadata": {},
          "execution_count": 108
        }
      ]
    },
    {
      "cell_type": "code",
      "source": [
        "# Create an empty list\n",
        "\n",
        "tagged = []"
      ],
      "metadata": {
        "id": "Eur652PzwJwl"
      },
      "execution_count": 429,
      "outputs": []
    },
    {
      "cell_type": "code",
      "source": [
        "# Manually tag 79 product pages\n",
        "\n",
        "tagged.append(tag_elem(full_extracted[78], 'table barstools'))"
      ],
      "metadata": {
        "id": "3OZlE6YywLIf"
      },
      "execution_count": 107,
      "outputs": []
    },
    {
      "cell_type": "code",
      "source": [
        "# Count data\n",
        "\n",
        "len(tagged)"
      ],
      "metadata": {
        "colab": {
          "base_uri": "https://localhost:8080/"
        },
        "id": "PGuNxqEid7_H",
        "outputId": "388e11e5-d6f8-40be-c915-f21fb8a6f397"
      },
      "execution_count": 110,
      "outputs": [
        {
          "output_type": "execute_result",
          "data": {
            "text/plain": [
              "79"
            ]
          },
          "metadata": {},
          "execution_count": 110
        }
      ]
    },
    {
      "cell_type": "code",
      "source": [
        "# Create sentences by putting together words and their labels\n",
        "\n",
        "sents = []\n",
        "labels = []\n",
        "\n",
        "for elem_2 in tagged:\n",
        "  sent = ''\n",
        "  label = ''\n",
        "  for elem in elem_2:\n",
        "    word = elem.split()[0]\n",
        "    if word not in '.?!':\n",
        "      sent += ' ' + word\n",
        "      label += ' ' + elem.split()[1]\n",
        "    else:\n",
        "      sents.append(sent)\n",
        "      labels.append(label)\n",
        "      sent = ''\n",
        "      label = ''"
      ],
      "metadata": {
        "id": "3Av3QsouX-kQ"
      },
      "execution_count": 112,
      "outputs": []
    },
    {
      "cell_type": "code",
      "source": [
        "# Create a dataframe using the sentences and labels\n",
        "\n",
        "fixed_df = pd.DataFrame(sents)\n",
        "fixed_df['labels'] = labels\n",
        "fixed_df.columns = ['text', 'labels']\n",
        "fixed_df.head(5)"
      ],
      "metadata": {
        "colab": {
          "base_uri": "https://localhost:8080/",
          "height": 206
        },
        "id": "CSra-Y4pOATa",
        "outputId": "ded4044d-1efe-48bb-d9cf-b04e6d85a765"
      },
      "execution_count": 113,
      "outputs": [
        {
          "output_type": "execute_result",
          "data": {
            "text/plain": [
              "                              text              labels\n",
              "0                                -                   O\n",
              "1                                |                   O\n",
              "2                                /                   O\n",
              "3   Save up to % Save % Save up to   O O O O O O O O O\n",
              "4                             Save                   O"
            ],
            "text/html": [
              "\n",
              "  <div id=\"df-8751d72f-7d2d-4cc4-8bc8-5d094b039273\">\n",
              "    <div class=\"colab-df-container\">\n",
              "      <div>\n",
              "<style scoped>\n",
              "    .dataframe tbody tr th:only-of-type {\n",
              "        vertical-align: middle;\n",
              "    }\n",
              "\n",
              "    .dataframe tbody tr th {\n",
              "        vertical-align: top;\n",
              "    }\n",
              "\n",
              "    .dataframe thead th {\n",
              "        text-align: right;\n",
              "    }\n",
              "</style>\n",
              "<table border=\"1\" class=\"dataframe\">\n",
              "  <thead>\n",
              "    <tr style=\"text-align: right;\">\n",
              "      <th></th>\n",
              "      <th>text</th>\n",
              "      <th>labels</th>\n",
              "    </tr>\n",
              "  </thead>\n",
              "  <tbody>\n",
              "    <tr>\n",
              "      <th>0</th>\n",
              "      <td>-</td>\n",
              "      <td>O</td>\n",
              "    </tr>\n",
              "    <tr>\n",
              "      <th>1</th>\n",
              "      <td>|</td>\n",
              "      <td>O</td>\n",
              "    </tr>\n",
              "    <tr>\n",
              "      <th>2</th>\n",
              "      <td>/</td>\n",
              "      <td>O</td>\n",
              "    </tr>\n",
              "    <tr>\n",
              "      <th>3</th>\n",
              "      <td>Save up to % Save % Save up to</td>\n",
              "      <td>O O O O O O O O O</td>\n",
              "    </tr>\n",
              "    <tr>\n",
              "      <th>4</th>\n",
              "      <td>Save</td>\n",
              "      <td>O</td>\n",
              "    </tr>\n",
              "  </tbody>\n",
              "</table>\n",
              "</div>\n",
              "      <button class=\"colab-df-convert\" onclick=\"convertToInteractive('df-8751d72f-7d2d-4cc4-8bc8-5d094b039273')\"\n",
              "              title=\"Convert this dataframe to an interactive table.\"\n",
              "              style=\"display:none;\">\n",
              "        \n",
              "  <svg xmlns=\"http://www.w3.org/2000/svg\" height=\"24px\"viewBox=\"0 0 24 24\"\n",
              "       width=\"24px\">\n",
              "    <path d=\"M0 0h24v24H0V0z\" fill=\"none\"/>\n",
              "    <path d=\"M18.56 5.44l.94 2.06.94-2.06 2.06-.94-2.06-.94-.94-2.06-.94 2.06-2.06.94zm-11 1L8.5 8.5l.94-2.06 2.06-.94-2.06-.94L8.5 2.5l-.94 2.06-2.06.94zm10 10l.94 2.06.94-2.06 2.06-.94-2.06-.94-.94-2.06-.94 2.06-2.06.94z\"/><path d=\"M17.41 7.96l-1.37-1.37c-.4-.4-.92-.59-1.43-.59-.52 0-1.04.2-1.43.59L10.3 9.45l-7.72 7.72c-.78.78-.78 2.05 0 2.83L4 21.41c.39.39.9.59 1.41.59.51 0 1.02-.2 1.41-.59l7.78-7.78 2.81-2.81c.8-.78.8-2.07 0-2.86zM5.41 20L4 18.59l7.72-7.72 1.47 1.35L5.41 20z\"/>\n",
              "  </svg>\n",
              "      </button>\n",
              "      \n",
              "  <style>\n",
              "    .colab-df-container {\n",
              "      display:flex;\n",
              "      flex-wrap:wrap;\n",
              "      gap: 12px;\n",
              "    }\n",
              "\n",
              "    .colab-df-convert {\n",
              "      background-color: #E8F0FE;\n",
              "      border: none;\n",
              "      border-radius: 50%;\n",
              "      cursor: pointer;\n",
              "      display: none;\n",
              "      fill: #1967D2;\n",
              "      height: 32px;\n",
              "      padding: 0 0 0 0;\n",
              "      width: 32px;\n",
              "    }\n",
              "\n",
              "    .colab-df-convert:hover {\n",
              "      background-color: #E2EBFA;\n",
              "      box-shadow: 0px 1px 2px rgba(60, 64, 67, 0.3), 0px 1px 3px 1px rgba(60, 64, 67, 0.15);\n",
              "      fill: #174EA6;\n",
              "    }\n",
              "\n",
              "    [theme=dark] .colab-df-convert {\n",
              "      background-color: #3B4455;\n",
              "      fill: #D2E3FC;\n",
              "    }\n",
              "\n",
              "    [theme=dark] .colab-df-convert:hover {\n",
              "      background-color: #434B5C;\n",
              "      box-shadow: 0px 1px 3px 1px rgba(0, 0, 0, 0.15);\n",
              "      filter: drop-shadow(0px 1px 2px rgba(0, 0, 0, 0.3));\n",
              "      fill: #FFFFFF;\n",
              "    }\n",
              "  </style>\n",
              "\n",
              "      <script>\n",
              "        const buttonEl =\n",
              "          document.querySelector('#df-8751d72f-7d2d-4cc4-8bc8-5d094b039273 button.colab-df-convert');\n",
              "        buttonEl.style.display =\n",
              "          google.colab.kernel.accessAllowed ? 'block' : 'none';\n",
              "\n",
              "        async function convertToInteractive(key) {\n",
              "          const element = document.querySelector('#df-8751d72f-7d2d-4cc4-8bc8-5d094b039273');\n",
              "          const dataTable =\n",
              "            await google.colab.kernel.invokeFunction('convertToInteractive',\n",
              "                                                     [key], {});\n",
              "          if (!dataTable) return;\n",
              "\n",
              "          const docLinkHtml = 'Like what you see? Visit the ' +\n",
              "            '<a target=\"_blank\" href=https://colab.research.google.com/notebooks/data_table.ipynb>data table notebook</a>'\n",
              "            + ' to learn more about interactive tables.';\n",
              "          element.innerHTML = '';\n",
              "          dataTable['output_type'] = 'display_data';\n",
              "          await google.colab.output.renderOutput(dataTable, element);\n",
              "          const docLink = document.createElement('div');\n",
              "          docLink.innerHTML = docLinkHtml;\n",
              "          element.appendChild(docLink);\n",
              "        }\n",
              "      </script>\n",
              "    </div>\n",
              "  </div>\n",
              "  "
            ]
          },
          "metadata": {},
          "execution_count": 113
        }
      ]
    },
    {
      "cell_type": "code",
      "source": [
        "# Count data\n",
        "\n",
        "len(fixed_df)"
      ],
      "metadata": {
        "colab": {
          "base_uri": "https://localhost:8080/"
        },
        "id": "cDSN7IPbTHod",
        "outputId": "3532e0fc-7520-4ef4-c069-fb1f6f55f32e"
      },
      "execution_count": 114,
      "outputs": [
        {
          "output_type": "execute_result",
          "data": {
            "text/plain": [
              "15898"
            ]
          },
          "metadata": {},
          "execution_count": 114
        }
      ]
    },
    {
      "cell_type": "code",
      "source": [
        "# Instantiate pre-trained BERT tokenizer\n",
        "\n",
        "tokenizer = BertTokenizerFast.from_pretrained('bert-base-cased')"
      ],
      "metadata": {
        "id": "vWDEzwGZNoeu"
      },
      "execution_count": null,
      "outputs": []
    },
    {
      "cell_type": "code",
      "source": [
        "# Reference: https://towardsdatascience.com/named-entity-recognition-with-bert-in-pytorch-a454405e0b6a\n",
        "\n",
        "# Each splitted token shares the same word_ids. \n",
        "# BERT tokens such as [CLS], [SEP], and [PAD] all do not have specific word_ids.\n",
        "\n",
        "# These word_ids will be very useful to adjust the length of the label by applying either of these two methods:\n",
        "# 1. We only provide a label to the first sub-word of each splitted token.\n",
        "# The continuation of the sub-word then will simply have ‘-100’ as a label. \n",
        "# All tokens that don’t have word_ids will also be labeled with ‘-100’.\n",
        "# 2. We provide the same label among all of the sub-words that belong to the same token. \n",
        "# All tokens that don’t have word_ids will be labeled with ‘-100’.\n",
        "# The function below will do exactly the step defined above.\n",
        "\n",
        "label_all_tokens = False\n",
        "\n",
        "def align_label(texts, labels):\n",
        "    tokenized_inputs = tokenizer(texts, padding='max_length', max_length=128, truncation=True)\n",
        "    word_ids = tokenized_inputs.word_ids()\n",
        "    previous_word_idx = None\n",
        "    label_ids = []\n",
        "    for word_idx in word_ids:\n",
        "        if word_idx is None:\n",
        "            label_ids.append(-100)\n",
        "        elif word_idx != previous_word_idx:\n",
        "            try:\n",
        "                label_ids.append(labels_to_ids[labels[word_idx]])\n",
        "            except:\n",
        "                label_ids.append(-100)\n",
        "        else:\n",
        "            try:\n",
        "                label_ids.append(labels_to_ids[labels[word_idx]] if label_all_tokens else -100)\n",
        "            except:\n",
        "                label_ids.append(-100)\n",
        "        previous_word_idx = word_idx\n",
        "    return label_ids"
      ],
      "metadata": {
        "id": "AfwIhqEENrK4"
      },
      "execution_count": 117,
      "outputs": []
    },
    {
      "cell_type": "code",
      "source": [
        "# Define a class to load data using torch utilities\n",
        "\n",
        "class DataSequence(torch.utils.data.Dataset):\n",
        "    def __init__(self, df):\n",
        "        lb = [i.split() for i in df['labels'].values.tolist()]\n",
        "        txt = df['text'].values.tolist()\n",
        "        self.texts = [tokenizer(str(i),\n",
        "                               padding='max_length', max_length = 128, truncation=True, return_tensors=\"pt\") for i in txt]\n",
        "        self.labels = [align_label(i,j) for i,j in zip(txt, lb)]\n",
        "\n",
        "    def __len__(self):\n",
        "        return len(self.labels)\n",
        "\n",
        "    def get_batch_data(self, idx):\n",
        "        return self.texts[idx]\n",
        "\n",
        "    def get_batch_labels(self, idx):\n",
        "        return torch.LongTensor(self.labels[idx])\n",
        "\n",
        "    def __getitem__(self, idx):\n",
        "        batch_data = self.get_batch_data(idx)\n",
        "        batch_labels = self.get_batch_labels(idx)\n",
        "        return batch_data, batch_labels"
      ],
      "metadata": {
        "id": "6vUugf-tNyb-"
      },
      "execution_count": 118,
      "outputs": []
    },
    {
      "cell_type": "code",
      "source": [
        "# Further split the data into training/validation/testing\n",
        "\n",
        "df = fixed_df\n",
        "\n",
        "labels = [i.split() for i in df['labels'].values.tolist()]\n",
        "unique_labels = set()\n",
        "\n",
        "for lb in labels:\n",
        "        [unique_labels.add(i) for i in lb if i not in unique_labels]\n",
        "labels_to_ids = {k: v for v, k in enumerate(unique_labels)}\n",
        "ids_to_labels = {v: k for v, k in enumerate(unique_labels)}\n",
        "\n",
        "df_train, df_val, df_test = np.split(df.sample(frac=1, random_state=42),\n",
        "                            [int(.8 * len(df)), int(.9 * len(df))])"
      ],
      "metadata": {
        "id": "WwhbJPVxN2Qz"
      },
      "execution_count": 134,
      "outputs": []
    },
    {
      "cell_type": "code",
      "source": [
        "# Define a class for the BERT model\n",
        "\n",
        "class BertModel(torch.nn.Module):\n",
        "    def __init__(self):\n",
        "        super(BertModel, self).__init__()\n",
        "        self.bert = BertForTokenClassification.from_pretrained('bert-base-cased', num_labels=len(unique_labels))\n",
        "\n",
        "    def forward(self, input_id, mask, label):\n",
        "        output = self.bert(input_ids=input_id, attention_mask=mask, labels=label, return_dict=False)\n",
        "        return output"
      ],
      "metadata": {
        "id": "N5O7YLHIRp0B"
      },
      "execution_count": 135,
      "outputs": []
    },
    {
      "cell_type": "code",
      "source": [
        "# Define a function for a custom training loop\n",
        "\n",
        "def train_loop(model, df_train, df_val):\n",
        "    train_dataset = DataSequence(df_train)\n",
        "    val_dataset = DataSequence(df_val)\n",
        "    train_dataloader = DataLoader(train_dataset, num_workers=4, batch_size=BATCH_SIZE, shuffle=True)\n",
        "    val_dataloader = DataLoader(val_dataset, num_workers=4, batch_size=BATCH_SIZE)\n",
        "    use_cuda = torch.cuda.is_available()\n",
        "    device = torch.device(\"cuda\" if use_cuda else \"cpu\")\n",
        "    optimizer = SGD(model.parameters(), lr=LEARNING_RATE)\n",
        "    if use_cuda:\n",
        "        model = model.cuda()\n",
        "    for epoch_num in range(EPOCHS):\n",
        "        total_acc_train = 0\n",
        "        total_loss_train = 0\n",
        "        model.train()\n",
        "        for train_data, train_label in tqdm(train_dataloader):\n",
        "            train_label = train_label.to(device)\n",
        "            mask = train_data['attention_mask'].squeeze(1).to(device)\n",
        "            input_id = train_data['input_ids'].squeeze(1).to(device)\n",
        "            optimizer.zero_grad()\n",
        "            loss, logits = model(input_id, mask, train_label)\n",
        "            for i in range(logits.shape[0]):\n",
        "              logits_clean = logits[i][train_label[i] != -100]\n",
        "              label_clean = train_label[i][train_label[i] != -100]\n",
        "              predictions = logits_clean.argmax(dim=1)\n",
        "              acc = (predictions == label_clean).float().mean()\n",
        "              if isinstance(acc.item(), float) and acc.item() >= 0 and acc.item() <= 1:\n",
        "                total_acc_train += acc.item()\n",
        "              total_loss_train += loss.item()\n",
        "            loss.backward()\n",
        "            optimizer.step()\n",
        "        model.eval()\n",
        "        total_acc_val = 0\n",
        "        total_loss_val = 0\n",
        "        for val_data, val_label in val_dataloader:\n",
        "            val_label = val_label.to(device)\n",
        "            mask = val_data['attention_mask'].squeeze(1).to(device)\n",
        "            input_id = val_data['input_ids'].squeeze(1).to(device)\n",
        "            loss, logits = model(input_id, mask, val_label)\n",
        "            for i in range(logits.shape[0]):\n",
        "              logits_clean = logits[i][val_label[i] != -100]\n",
        "              label_clean = val_label[i][val_label[i] != -100]\n",
        "              predictions = logits_clean.argmax(dim=1)\n",
        "              acc = (predictions == label_clean).float().mean()\n",
        "              if isinstance(acc.item(), float) and acc.item() >= 0 and acc.item() <= 1:\n",
        "                total_acc_val += acc.item()\n",
        "              total_loss_val += loss.item()\n",
        "        val_accuracy = total_acc_val / len(df_val)\n",
        "        val_loss = total_loss_val / len(df_val)\n",
        "        print(f'Epochs: {epoch_num + 1} | Loss: {total_loss_train / len(df_train): .3f} | Accuracy: {total_acc_train / len(df_train): .3f} | Val_Loss: {total_loss_val / len(df_val): .3f} | Accuracy: {total_acc_val / len(df_val): .3f}')"
      ],
      "metadata": {
        "id": "8mjOuHUzRvrX"
      },
      "execution_count": 136,
      "outputs": []
    },
    {
      "cell_type": "code",
      "source": [
        "# Specify paramters\n",
        "LEARNING_RATE = 5e-3\n",
        "EPOCHS = 2\n",
        "BATCH_SIZE = 2\n",
        "\n",
        "# Instantiate model\n",
        "model = BertModel()\n",
        "\n",
        "# Uncomment line to load the model from the .pth file\n",
        "# model = torch.load('ML-Assignment/model.pth')\n",
        "\n",
        "# Start training (CUDA GPU has been used during development)\n",
        "train_loop(model, df_train, df_val)"
      ],
      "metadata": {
        "colab": {
          "base_uri": "https://localhost:8080/"
        },
        "id": "smWFtz1WSQun",
        "outputId": "8885d565-c729-439e-adbb-48a1faa8ff5c"
      },
      "execution_count": 137,
      "outputs": [
        {
          "output_type": "stream",
          "name": "stderr",
          "text": [
            "Some weights of the model checkpoint at bert-base-cased were not used when initializing BertForTokenClassification: ['cls.seq_relationship.weight', 'cls.predictions.decoder.weight', 'cls.predictions.bias', 'cls.predictions.transform.LayerNorm.bias', 'cls.predictions.transform.dense.bias', 'cls.predictions.transform.LayerNorm.weight', 'cls.predictions.transform.dense.weight', 'cls.seq_relationship.bias']\n",
            "- This IS expected if you are initializing BertForTokenClassification from the checkpoint of a model trained on another task or with another architecture (e.g. initializing a BertForSequenceClassification model from a BertForPreTraining model).\n",
            "- This IS NOT expected if you are initializing BertForTokenClassification from the checkpoint of a model that you expect to be exactly identical (initializing a BertForSequenceClassification model from a BertForSequenceClassification model).\n",
            "Some weights of BertForTokenClassification were not initialized from the model checkpoint at bert-base-cased and are newly initialized: ['classifier.weight', 'classifier.bias']\n",
            "You should probably TRAIN this model on a down-stream task to be able to use it for predictions and inference.\n",
            "100%|██████████| 6359/6359 [06:05<00:00, 17.38it/s]\n"
          ]
        },
        {
          "output_type": "stream",
          "name": "stdout",
          "text": [
            "Epochs: 1 | Loss:  0.071 | Accuracy:  0.982 | Val_Loss:  0.075 | Accuracy:  0.979\n"
          ]
        },
        {
          "output_type": "stream",
          "name": "stderr",
          "text": [
            "100%|██████████| 6359/6359 [06:01<00:00, 17.57it/s]\n"
          ]
        },
        {
          "output_type": "stream",
          "name": "stdout",
          "text": [
            "Epochs: 2 | Loss:  0.051 | Accuracy:  0.984 | Val_Loss:  0.062 | Accuracy:  0.982\n"
          ]
        }
      ]
    },
    {
      "cell_type": "code",
      "source": [
        "# Define a function for evaluating the model\n",
        "\n",
        "def evaluate(model, df_test):\n",
        "    test_dataset = DataSequence(df_test)\n",
        "    test_dataloader = DataLoader(test_dataset, num_workers=4, batch_size=1)\n",
        "    use_cuda = torch.cuda.is_available()\n",
        "    device = torch.device(\"cuda\" if use_cuda else \"cpu\")\n",
        "    if use_cuda:\n",
        "        model = model.cuda()\n",
        "    total_acc_test = 0.0\n",
        "    for test_data, test_label in test_dataloader:\n",
        "            test_label = test_label.to(device)\n",
        "            mask = test_data['attention_mask'].squeeze(1).to(device)\n",
        "            input_id = test_data['input_ids'].squeeze(1).to(device)\n",
        "            loss, logits = model(input_id, mask, test_label)\n",
        "            for i in range(logits.shape[0]):\n",
        "              logits_clean = logits[i][test_label[i] != -100]\n",
        "              label_clean = test_label[i][test_label[i] != -100]\n",
        "              predictions = logits_clean.argmax(dim=1)\n",
        "              acc = (predictions == label_clean).float().mean()\n",
        "              if isinstance(acc.item(), float) and acc.item() >= 0 and acc.item() <= 1:\n",
        "                total_acc_test += acc.item()\n",
        "    val_accuracy = total_acc_test / len(df_test)\n",
        "    print(f'Test Accuracy: {total_acc_test / len(df_test): .3f}')"
      ],
      "metadata": {
        "id": "tf1Hs-DeSSHH"
      },
      "execution_count": 138,
      "outputs": []
    },
    {
      "cell_type": "code",
      "source": [
        "# Evaluate the model (accuracy)\n",
        "\n",
        "evaluate(model, df_test)"
      ],
      "metadata": {
        "colab": {
          "base_uri": "https://localhost:8080/"
        },
        "id": "K3QApt1rU9az",
        "outputId": "eb1b1c2f-771c-46ab-fa56-c27b9d507b30"
      },
      "execution_count": 139,
      "outputs": [
        {
          "output_type": "stream",
          "name": "stdout",
          "text": [
            "Test Accuracy:  0.988\n"
          ]
        }
      ]
    },
    {
      "cell_type": "code",
      "source": [
        "# Align word IDs when dealing with a single text for inference\n",
        "\n",
        "def align_word_ids(texts):\n",
        "    tokenized_inputs = tokenizer(texts, padding='max_length', max_length=128, truncation=True)\n",
        "    word_ids = tokenized_inputs.word_ids()\n",
        "    previous_word_idx = None\n",
        "    label_ids = []\n",
        "    for word_idx in word_ids:\n",
        "        if word_idx is None:\n",
        "            label_ids.append(-100)\n",
        "        elif word_idx != previous_word_idx:\n",
        "            try:\n",
        "                label_ids.append(1)\n",
        "            except:\n",
        "                label_ids.append(-100)\n",
        "        else:\n",
        "            try:\n",
        "                label_ids.append(1 if label_all_tokens else -100)\n",
        "            except:\n",
        "                label_ids.append(-100)\n",
        "        previous_word_idx = word_idx\n",
        "    return label_ids"
      ],
      "metadata": {
        "id": "QZyvcMd5VNbV"
      },
      "execution_count": 140,
      "outputs": []
    },
    {
      "cell_type": "code",
      "source": [
        "# Define a function for inference on a single text\n",
        "\n",
        "def evaluate_one_text(model, sentence):\n",
        "    use_cuda = torch.cuda.is_available()\n",
        "    device = torch.device(\"cuda\" if use_cuda else \"cpu\")\n",
        "    if use_cuda:\n",
        "        model = model.cuda()\n",
        "    text = tokenizer(sentence, padding='max_length', max_length = 128, truncation=True, return_tensors=\"pt\")\n",
        "    mask = text['attention_mask'].to(device)\n",
        "    input_id = text['input_ids'].to(device)\n",
        "    label_ids = torch.Tensor(align_word_ids(sentence)).unsqueeze(0).to(device)\n",
        "    logits = model(input_id, mask, None)\n",
        "    logits_clean = logits[0][label_ids != -100]\n",
        "    predictions = logits_clean.argmax(dim=1).tolist()\n",
        "    prediction_label = [ids_to_labels[i] for i in predictions]\n",
        "    return prediction_label\n",
        "    # print(sentence)\n",
        "    # print(prediction_label)"
      ],
      "metadata": {
        "id": "1JSXiRODVVTB"
      },
      "execution_count": 221,
      "outputs": []
    },
    {
      "cell_type": "code",
      "source": [
        "# Inference on a given text\n",
        "\n",
        "evaluate_one_text(model, 'Increase quantity for Black Chair')"
      ],
      "metadata": {
        "colab": {
          "base_uri": "https://localhost:8080/"
        },
        "id": "p8jVRkNPVZvL",
        "outputId": "f8845432-c949-42b5-902a-9035f6582940"
      },
      "execution_count": 142,
      "outputs": [
        {
          "output_type": "stream",
          "name": "stdout",
          "text": [
            "Increase quantity for Black Chair\n",
            "['O', 'O', 'O', 'O', 'I-PROD']\n"
          ]
        }
      ]
    },
    {
      "cell_type": "code",
      "source": [
        "count = 0\n",
        "for index, label in enumerate(labels):\n",
        "  if 'I-PROD' in label:\n",
        "    count += 1\n",
        "    print(sents[index])"
      ],
      "metadata": {
        "id": "8JVuK6MLauj6"
      },
      "execution_count": null,
      "outputs": []
    },
    {
      "cell_type": "code",
      "source": [
        "count"
      ],
      "metadata": {
        "colab": {
          "base_uri": "https://localhost:8080/"
        },
        "id": "jo0Uu4d3bVyd",
        "outputId": "8638e41a-995b-4890-ae6c-ecde95c6e37b"
      },
      "execution_count": 145,
      "outputs": [
        {
          "output_type": "execute_result",
          "data": {
            "text/plain": [
              "737"
            ]
          },
          "metadata": {},
          "execution_count": 145
        }
      ]
    },
    {
      "cell_type": "code",
      "source": [
        "# Save model\n",
        "\n",
        "torch.save(model.state_dict(), 'model.pth')"
      ],
      "metadata": {
        "id": "6mtQjZ-Ib4Sg"
      },
      "execution_count": 143,
      "outputs": []
    },
    {
      "cell_type": "code",
      "source": [
        "# Below are git-related OS commands to export the model\n",
        "\n",
        "!git clone https://github.com/teodortita/ML-Assignment.git"
      ],
      "metadata": {
        "id": "PbyXTnG0chIm"
      },
      "execution_count": null,
      "outputs": []
    },
    {
      "cell_type": "code",
      "source": [
        "!cp model.pth ML-Assignment/model.pth"
      ],
      "metadata": {
        "id": "IcPzR4MPnBNp"
      },
      "execution_count": 186,
      "outputs": []
    },
    {
      "cell_type": "code",
      "source": [
        "%cd ML-Assignment"
      ],
      "metadata": {
        "id": "dRlT5yNgnGCc"
      },
      "execution_count": null,
      "outputs": []
    },
    {
      "cell_type": "code",
      "source": [
        "!git lfs install"
      ],
      "metadata": {
        "id": "_OuRjv6doXYz"
      },
      "execution_count": null,
      "outputs": []
    },
    {
      "cell_type": "code",
      "source": [
        "!git lfs track \"*.pth\""
      ],
      "metadata": {
        "id": "J4cVS_HTpEqI"
      },
      "execution_count": null,
      "outputs": []
    },
    {
      "cell_type": "code",
      "source": [
        "!git add .gitattributes"
      ],
      "metadata": {
        "id": "lMgu8HBNpIWv"
      },
      "execution_count": 190,
      "outputs": []
    },
    {
      "cell_type": "code",
      "source": [
        "!git add model.pth"
      ],
      "metadata": {
        "id": "k2FyOm3apKxy"
      },
      "execution_count": 191,
      "outputs": []
    },
    {
      "cell_type": "code",
      "source": [
        "!git commit -m \"Add model file\""
      ],
      "metadata": {
        "id": "IpRKci2bpnVk"
      },
      "execution_count": null,
      "outputs": []
    },
    {
      "cell_type": "code",
      "source": [
        "# Extract texts from test data URLs\n",
        "\n",
        "test_full_extracted = []\n",
        "X_test_new = []\n",
        "\n",
        "for elem in X_test:\n",
        "  extracted = extract_text(elem)\n",
        "  if extracted:\n",
        "    extracted = [item for sublist in extracted for item in sublist]\n",
        "    test_full_extracted.append(extracted)\n",
        "    X_test_new.append(elem)"
      ],
      "metadata": {
        "id": "7ZAf8cTMq8Nq"
      },
      "execution_count": null,
      "outputs": []
    },
    {
      "cell_type": "code",
      "source": [
        "# Count data\n",
        "\n",
        "len(test_full_extracted)"
      ],
      "metadata": {
        "colab": {
          "base_uri": "https://localhost:8080/"
        },
        "id": "nyRY1pTtxoQd",
        "outputId": "6488bad0-94e1-4b9d-9602-c3628a548525"
      },
      "execution_count": 208,
      "outputs": [
        {
          "output_type": "execute_result",
          "data": {
            "text/plain": [
              "227"
            ]
          },
          "metadata": {},
          "execution_count": 208
        }
      ]
    },
    {
      "cell_type": "code",
      "source": [
        "# Create sentences from outputted texts\n",
        "\n",
        "test_sents = []\n",
        "\n",
        "for elem_2 in test_full_extracted:\n",
        "  sent = ''\n",
        "  for elem in elem_2:\n",
        "    word = elem.split()[0]\n",
        "    if word not in '.?!':\n",
        "      sent += ' ' + word\n",
        "    else:\n",
        "      test_sents.append(sent)\n",
        "      sent = ''"
      ],
      "metadata": {
        "id": "KRVK7iX2xQx0"
      },
      "execution_count": 209,
      "outputs": []
    },
    {
      "cell_type": "code",
      "source": [
        "# Perform inference using the model and output results as a text file\n",
        "\n",
        "results = []\n",
        "\n",
        "for elem in test_sents:\n",
        "  output_labels = evaluate_one_text(model, elem)\n",
        "  if output_labels and 'I-PROD' in output_labels:\n",
        "    results.append((elem, output_labels))"
      ],
      "metadata": {
        "id": "Vs2QWVAprNqF"
      },
      "execution_count": 223,
      "outputs": []
    },
    {
      "cell_type": "code",
      "source": [
        "# Count data\n",
        "\n",
        "len(results)"
      ],
      "metadata": {
        "colab": {
          "base_uri": "https://localhost:8080/"
        },
        "id": "XgYO0kGNwzh2",
        "outputId": "47b5e9fd-f2c9-4090-86a5-8864b6aa3fd2"
      },
      "execution_count": 224,
      "outputs": [
        {
          "output_type": "execute_result",
          "data": {
            "text/plain": [
              "810"
            ]
          },
          "metadata": {},
          "execution_count": 224
        }
      ]
    },
    {
      "cell_type": "code",
      "source": [
        "# Inspect data\n",
        "\n",
        "results[0]"
      ],
      "metadata": {
        "colab": {
          "base_uri": "https://localhost:8080/"
        },
        "id": "WNvwi86r108A",
        "outputId": "545f894a-9053-4087-8117-d83be194b86e"
      },
      "execution_count": 225,
      "outputs": [
        {
          "output_type": "execute_result",
          "data": {
            "text/plain": [
              "(' Cow Horn Chair', ['O', 'O', 'I-PROD'])"
            ]
          },
          "metadata": {},
          "execution_count": 225
        }
      ]
    },
    {
      "cell_type": "code",
      "source": [
        "# Export results (file is now in the repo)\n",
        "\n",
        "with open(\"results.txt\", 'w') as output:\n",
        "    for row in results:\n",
        "        output.write(str(row) + '\\n')"
      ],
      "metadata": {
        "id": "i8R2DZtg13xN"
      },
      "execution_count": 227,
      "outputs": []
    }
  ]
}
